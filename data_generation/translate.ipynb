{
 "cells": [
  {
   "attachments": {},
   "cell_type": "markdown",
   "metadata": {},
   "source": [
    "prerequisite:\n",
    "\n",
    "`%pip install word2word`"
   ]
  },
  {
   "attachments": {},
   "cell_type": "markdown",
   "metadata": {},
   "source": [
    "# translate"
   ]
  },
  {
   "cell_type": "code",
   "execution_count": 148,
   "metadata": {},
   "outputs": [],
   "source": [
    "from word2word import Word2word\n",
    "import re\n",
    "import json"
   ]
  },
  {
   "cell_type": "code",
   "execution_count": 4,
   "metadata": {},
   "outputs": [
    {
     "name": "stdout",
     "output_type": "stream",
     "text": [
      "Downloading data ...\n"
     ]
    }
   ],
   "source": [
    "en2fr = Word2word(\"en\", \"fr\")"
   ]
  },
  {
   "cell_type": "code",
   "execution_count": 115,
   "metadata": {},
   "outputs": [],
   "source": [
    "eng_sentence = \"I am a really big fan of trump even though he might be evil.\"\n",
    "fr_sentence = \"Je suis un grand fan de Trump même s'il pourrait être maléfique.\"\n",
    "\n",
    "words = re.sub(r'[^\\w\\s]', '', eng_sentence).split(\" \")"
   ]
  },
  {
   "cell_type": "code",
   "execution_count": 116,
   "metadata": {},
   "outputs": [],
   "source": [
    "vocabs = []\n",
    "\n",
    "for word in words:\n",
    "    try:\n",
    "        translations = en2fr(word)\n",
    "        found = \"\"\n",
    "        for translation in translations:\n",
    "            if fr_sentence.find(translation) != -1:\n",
    "\n",
    "                found = translation\n",
    "                break\n",
    "        if found != \"\" and found != word:\n",
    "            voc = [word, found]\n",
    "\n",
    "            vocabs.append(voc)\n",
    "    except: pass"
   ]
  },
  {
   "cell_type": "code",
   "execution_count": 147,
   "metadata": {},
   "outputs": [
    {
     "data": {
      "text/plain": [
       "('\"I am a really big fan of trump even though he \"(\"might\",\"pourrait\")\" \"(\"be\",\"pourrait\")\" \"(\"evil\",\"maléfique\")\".\"',\n",
       " '\"Je suis un grand fan de Trump même s\\'il <\"(\"pourrait\",\"might\")\"> être \"(\"maléfique\",\"evil\")\".\"')"
      ]
     },
     "execution_count": 147,
     "metadata": {},
     "output_type": "execute_result"
    }
   ],
   "source": [
    "en2fr_sentence = eng_sentence\n",
    "en2fr_sentence = '\"' + en2fr_sentence + '\"'\n",
    "\n",
    "fr2en_sentence = fr_sentence\n",
    "fr2en_sentence = '\"' + fr2en_sentence + '\"'\n",
    "\n",
    "for v in vocabs:\n",
    "    en2fr_sentence = en2fr_sentence.replace(v[0], '<'+v[0]+'>')\n",
    "    fr2en_sentence = fr2en_sentence.replace(v[1], '<'+v[1]+'>')\n",
    "\n",
    "for v in vocabs:\n",
    "    en2fr_sentence = en2fr_sentence.replace('<'+v[0]+'>', '\"(\"'+'\",\"'.join(v)+'\")\"')\n",
    "    fr2en_sentence = fr2en_sentence.replace('<'+v[1]+'>', '\"(\"'+'\",\"'.join(v[::-1])+'\")\"')\n",
    "\n",
    "en2fr_sentence,fr2en_sentence"
   ]
  },
  {
   "cell_type": "code",
   "execution_count": 164,
   "metadata": {},
   "outputs": [
    {
     "data": {
      "text/plain": [
       "['pensé', 'pourrais', 'pu', 'aurait', 'pourrait']"
      ]
     },
     "execution_count": 164,
     "metadata": {},
     "output_type": "execute_result"
    }
   ],
   "source": [
    "en2fr(\"might\")"
   ]
  },
  {
   "cell_type": "code",
   "execution_count": 134,
   "metadata": {},
   "outputs": [
    {
     "data": {
      "text/plain": [
       "\"Je suis un grand fan de Trump même s'il pourrait être maléfique.\""
      ]
     },
     "execution_count": 134,
     "metadata": {},
     "output_type": "execute_result"
    }
   ],
   "source": [
    "fr_sentence"
   ]
  },
  {
   "attachments": {},
   "cell_type": "markdown",
   "metadata": {},
   "source": [
    "# sentence matching"
   ]
  },
  {
   "cell_type": "code",
   "execution_count": null,
   "metadata": {},
   "outputs": [],
   "source": [
    "class w2w_translat"
   ]
  },
  {
   "cell_type": "code",
   "execution_count": 154,
   "metadata": {},
   "outputs": [
    {
     "name": "stdout",
     "output_type": "stream",
     "text": [
      "Downloading data ...\n"
     ]
    }
   ],
   "source": [
    "en2de = Word2word(\"en\", \"de\")"
   ]
  },
  {
   "cell_type": "code",
   "execution_count": null,
   "metadata": {},
   "outputs": [],
   "source": [
    "en2de."
   ]
  },
  {
   "cell_type": "code",
   "execution_count": 160,
   "metadata": {},
   "outputs": [
    {
     "data": {
      "text/plain": [
       "['Frühstück', 'Sonntag', 'beim', 'Morgen', 'hatten']"
      ]
     },
     "execution_count": 160,
     "metadata": {},
     "output_type": "execute_result"
    }
   ],
   "source": [
    "en2de(\"brunch\")"
   ]
  },
  {
   "cell_type": "code",
   "execution_count": 233,
   "metadata": {},
   "outputs": [],
   "source": [
    "prince = json.load(open(\"../static/books/the_little_prince.json\"))\n",
    "ger_prince = json.load(open(\"../static/books/the_little_prince.ger.json\"))"
   ]
  },
  {
   "cell_type": "code",
   "execution_count": 234,
   "metadata": {},
   "outputs": [],
   "source": [
    "a = prince[0]\n",
    "b = ger_prince[0]"
   ]
  },
  {
   "cell_type": "code",
   "execution_count": 235,
   "metadata": {},
   "outputs": [
    {
     "data": {
      "text/plain": [
       "'Once when I was six years old I saw a magnificent picture in a book, called True Stories from  Nature, about the primeval forest.'"
      ]
     },
     "execution_count": 235,
     "metadata": {},
     "output_type": "execute_result"
    }
   ],
   "source": [
    "a"
   ]
  },
  {
   "cell_type": "code",
   "execution_count": 236,
   "metadata": {},
   "outputs": [
    {
     "data": {
      "text/plain": [
       "'Als ich sechs war, sah ich einmal ein wunderbares Bild in einem Buch über den Dschungel, das \"Wahre Geschichten\" hieß.'"
      ]
     },
     "execution_count": 236,
     "metadata": {},
     "output_type": "execute_result"
    }
   ],
   "source": [
    "b"
   ]
  },
  {
   "cell_type": "code",
   "execution_count": 219,
   "metadata": {},
   "outputs": [],
   "source": [
    "def get_words(sentence):\n",
    "    words = re.sub(r'[^\\w\\s]', '', sentence).replace(\"\\n\",\" \").split(\" \")\n",
    "    words = filter(lambda x: x != \"\", words)\n",
    "    return list(words)"
   ]
  },
  {
   "cell_type": "code",
   "execution_count": 252,
   "metadata": {},
   "outputs": [
    {
     "name": "stdout",
     "output_type": "stream",
     "text": [
      "['Once', 'when', 'I', 'was', 'six', 'years', 'old', 'I', 'saw', 'a', 'magnificent', 'picture', 'in', 'a', 'book', 'called', 'True', 'Stories', 'from', 'Nature', 'about', 'the', 'primeval', 'forest']\n",
      "['Als', 'ich', 'sechs', 'war', 'sah', 'ich', 'einmal', 'ein', 'wunderbares', 'Bild', 'in', 'einem', 'Buch', 'über', 'den', 'Dschungel', 'das', 'Wahre', 'Geschichten', 'hieß']\n"
     ]
    },
    {
     "data": {
      "text/plain": [
       "0.375"
      ]
     },
     "execution_count": 252,
     "metadata": {},
     "output_type": "execute_result"
    }
   ],
   "source": [
    "def match_score(a:str, b:str, w2w:Word2word = en2de):\n",
    "    a_words = get_words(a)\n",
    "    b_words = get_words(b)\n",
    "\n",
    "    print (a_words)\n",
    "    print(b_words)\n",
    "\n",
    "    n = max(len(a_words),len(b_words))\n",
    "    c = 0\n",
    "\n",
    "    for a in a_words:\n",
    "        translations = [a]\n",
    "        \n",
    "        try: translations = w2w(a)\n",
    "        except: pass\n",
    "\n",
    "        for t in translations:\n",
    "            if t in b_words:\n",
    "                c += 1\n",
    "                break\n",
    "\n",
    "    return c/n\n",
    "\n",
    "match_score(a,b)"
   ]
  },
  {
   "cell_type": "code",
   "execution_count": 250,
   "metadata": {},
   "outputs": [
    {
     "data": {
      "text/plain": [
       "['Einmal', 'Sobald', 'Noch', 'erst', 'einmal']"
      ]
     },
     "execution_count": 250,
     "metadata": {},
     "output_type": "execute_result"
    }
   ],
   "source": [
    "en2de(\"Once\")"
   ]
  },
  {
   "cell_type": "code",
   "execution_count": 269,
   "metadata": {},
   "outputs": [
    {
     "name": "stdout",
     "output_type": "stream",
     "text": [
      "['It', 'was', 'a', 'picture', 'of', 'a', 'boa', 'constrictor', 'in', 'the', 'act', 'of', 'swallowing', 'an', 'animal', 'In', 'the', 'book', 'it', 'said', 'Boa', 'constrictors', 'swallow', 'their', 'prey', 'whole', 'without', 'chewing', 'it']\n",
      "['Der', 'kleine', 'Prinz', 'Eine', 'Boa', 'die', 'ein', 'wildes', 'Tier', 'verschlingt', 'In', 'diesem', 'Buch', 'heißt', 'es', 'Boas', 'verschlingen', 'ihre', 'Beute', 'als', 'Ganzes', 'ohne', 'zu', 'kauen']\n"
     ]
    },
    {
     "data": {
      "text/plain": [
       "0.3448275862068966"
      ]
     },
     "execution_count": 269,
     "metadata": {},
     "output_type": "execute_result"
    }
   ],
   "source": [
    "match_score(prince[1],ger_prince[2])"
   ]
  },
  {
   "cell_type": "code",
   "execution_count": 258,
   "metadata": {},
   "outputs": [
    {
     "data": {
      "text/plain": [
       "'Der kleine Prinz – Eine Boa, die ein wildes Tier verschlingt In diesem Buch heißt es: \"Boas verschlingen ihre Beute als Ganzes, ohne zu kauen.'"
      ]
     },
     "execution_count": 258,
     "metadata": {},
     "output_type": "execute_result"
    }
   ],
   "source": [
    "ger_prince[2]"
   ]
  },
  {
   "cell_type": "code",
   "execution_count": 263,
   "metadata": {},
   "outputs": [
    {
     "data": {
      "text/plain": [
       "['Kreuzworträtsel', 'gelöst', 'löse', 'Rätsel', 'lösen']"
      ]
     },
     "execution_count": 263,
     "metadata": {},
     "output_type": "execute_result"
    }
   ],
   "source": [
    "en2de(\"crossword\")"
   ]
  }
 ],
 "metadata": {
  "kernelspec": {
   "display_name": "Python 3",
   "language": "python",
   "name": "python3"
  },
  "language_info": {
   "codemirror_mode": {
    "name": "ipython",
    "version": 3
   },
   "file_extension": ".py",
   "mimetype": "text/x-python",
   "name": "python",
   "nbconvert_exporter": "python",
   "pygments_lexer": "ipython3",
   "version": "3.11.2"
  },
  "orig_nbformat": 4
 },
 "nbformat": 4,
 "nbformat_minor": 2
}
