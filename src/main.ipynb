{
 "cells": [
  {
   "cell_type": "code",
   "execution_count": 3,
   "metadata": {},
   "outputs": [],
   "source": [
    "text = \"Call me Ishmael. Some years ago—never mind how long precisely—having little or no money in my purse, and nothing particular to interest me on shore, I thought I would sail about a little and see the watery part of the world. It is a way I have of driving off the spleen and regulating the circulation. Whenever I find myself growing grim about the mouth; whenever it is a damp, drizzly November in my soul; whenever I find myself involuntarily pausing before coffin warehouses, and bringing up the rear of every funeral I meet; and especially whenever my hypos get such an upper hand of me, that it requires a strong moral principle to prevent me from deliberately stepping into the street, and methodically knocking people’s hats off—then, I account it high time to get to sea as soon as I can. This is my substitute for pistol and ball. With a philosophical flourish Cato throws himself upon his sword; I quietly take to the ship. There is nothing surprising in this. If they but knew it, almost all men in their degree, some time or other, cherish very nearly the same feelings towards the ocean with me.\""
   ]
  },
  {
   "cell_type": "code",
   "execution_count": 11,
   "metadata": {},
   "outputs": [],
   "source": [
    "sentences = text.split(\".\")\n",
    "sentences = map(lambda s: s.strip(), sentences)\n",
    "sentences = filter(lambda s:s!=\"\", sentences)\n",
    "sentences = map(lambda s:s+\".\",sentences)\n",
    "sentences = [*sentences]"
   ]
  },
  {
   "cell_type": "code",
   "execution_count": null,
   "metadata": {},
   "outputs": [],
   "source": []
  },
  {
   "cell_type": "code",
   "execution_count": 52,
   "metadata": {},
   "outputs": [],
   "source": [
    "name = \"harry_potter_philosphers_stone_1\"\n",
    "\n"
   ]
  },
  {
   "cell_type": "code",
   "execution_count": 56,
   "metadata": {},
   "outputs": [],
   "source": [
    "\n",
    "def cleanup(name:str):\n",
    "\n",
    "    raw_harry_potter = open(f\"../static/books/{name}.raw\", \"r\").read()\n",
    "    harry_potter = raw_harry_potter\n",
    "\n",
    "    harry_potter = harry_potter.replace(\"Mr.\",\"Mr<dot>\")\n",
    "    harry_potter = harry_potter.replace(\"Mrs.\",\"Mrs<dot>\")\n",
    "    harry_potter = harry_potter.replace(\". .\",\"..\")\n",
    "    harry_potter = harry_potter.replace(\". .\",\"..\")\n",
    "    harry_potter = harry_potter.replace(\"...\",\"…\")\n",
    "\n",
    "    harry_potter = harry_potter.replace(\". \",\".\\n\")\n",
    "    harry_potter = harry_potter.replace(\"?\",\"?\\n\")\n",
    "    harry_potter = harry_potter.replace(\"!\",\"!\\n\")\n",
    "    harry_potter = harry_potter.replace(\"\\n\\n\",\"\\n\")\n",
    "\n",
    "    harry_potter = harry_potter.replace(\"\\n\\\"\\n\",\"\\\"\\n\")\n",
    "\n",
    "    harry_potter = harry_potter.replace(\"<dot>\",\".\")\n",
    "\n",
    "    min_length = 100\n",
    "    last_break = 0\n",
    "\n",
    "    for i in range(len(harry_potter)):\n",
    "        char = harry_potter[i]\n",
    "        if char == \"\\n\":\n",
    "            if i - last_break < min_length:\n",
    "                harry_potter = harry_potter[:i] + \" \" + harry_potter[i+1:]\n",
    "            else:\n",
    "                last_break = i\n",
    "    if i - last_break < min_length:\n",
    "        harry_potter = harry_potter[:last_break] + \" \" + harry_potter[last_break+1:]\n",
    "    \n",
    "    cleanfile = open (f\"../static/books/{name}.clean\", \"w\")\n",
    "    cleanfile.write(harry_potter)\n",
    "    cleanfile.close()"
   ]
  },
  {
   "cell_type": "code",
   "execution_count": 58,
   "metadata": {},
   "outputs": [],
   "source": [
    "cleanup(\"harry_potter_philosphers_stone_1\")"
   ]
  },
  {
   "cell_type": "code",
   "execution_count": null,
   "metadata": {},
   "outputs": [],
   "source": [
    "'''\n",
    "\n",
    "\n",
    "'''"
   ]
  },
  {
   "cell_type": "code",
   "execution_count": 23,
   "metadata": {},
   "outputs": [
    {
     "data": {
      "text/plain": [
       "'ley mumbled. Owls… shooting stars'"
      ]
     },
     "execution_count": 23,
     "metadata": {},
     "output_type": "execute_result"
    }
   ],
   "source": [
    "\"ley mumbled. Owls. . . shooting stars\".replace(\". . .\",\"…\")"
   ]
  }
 ],
 "metadata": {
  "kernelspec": {
   "display_name": "Python 3",
   "language": "python",
   "name": "python3"
  },
  "language_info": {
   "codemirror_mode": {
    "name": "ipython",
    "version": 3
   },
   "file_extension": ".py",
   "mimetype": "text/x-python",
   "name": "python",
   "nbconvert_exporter": "python",
   "pygments_lexer": "ipython3",
   "version": "3.11.2"
  },
  "orig_nbformat": 4
 },
 "nbformat": 4,
 "nbformat_minor": 2
}
