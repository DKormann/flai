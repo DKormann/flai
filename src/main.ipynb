{
 "cells": [
  {
   "cell_type": "code",
   "execution_count": 22,
   "metadata": {},
   "outputs": [],
   "source": [
    "import json"
   ]
  },
  {
   "cell_type": "code",
   "execution_count": 23,
   "metadata": {},
   "outputs": [
    {
     "name": "stdout",
     "output_type": "stream",
     "text": [
      "num parts 185\n",
      "longest part 533\n"
     ]
    }
   ],
   "source": [
    "\n",
    "def cleanup(name:str):\n",
    "\n",
    "    raw_content = open(f\"../static//books/{name}.raw\", \"r\").read()\n",
    "\n",
    "    raw_content = raw_content.replace(\"Mr.\",\"Mr<dot>\")\n",
    "    raw_content = raw_content.replace(\"Mrs.\",\"Mrs<dot>\")\n",
    "    raw_content = raw_content.replace(\". .\",\"..\")\n",
    "    raw_content = raw_content.replace(\". .\",\"..\")\n",
    "    raw_content = raw_content.replace(\"...\",\"…\")\n",
    "\n",
    "    raw_content = raw_content.replace(\". \",\".\\n\")\n",
    "    raw_content = raw_content.replace(\"? \",\"?\\n\")\n",
    "    raw_content = raw_content.replace(\"! \",\"!\\n\")\n",
    "    raw_content = raw_content.replace(\"\\n\\n\",\"\\n\")\n",
    "\n",
    "    raw_content = raw_content.replace(\"\\n\\\"\\n\",\"\\\"\\n\")\n",
    "\n",
    "    raw_content = raw_content.replace(\"<dot>\",\".\")\n",
    "\n",
    "    lines = raw_content.split(\"\\n\")\n",
    "    \n",
    "    parts = [\"\"]\n",
    "\n",
    "    min_content = 100\n",
    "\n",
    "    max_content = 200\n",
    "\n",
    "    for line in lines:\n",
    "        if len (parts[-1]) < min_content and len(parts[-1] + line) < max_content: \n",
    "            parts[-1] += line + \"\\n\"\n",
    "        else:\n",
    "            parts.append(line + \"\\n\")\n",
    "    print(\"num parts\",len(parts))\n",
    "    # longest part \n",
    "    print(\"longest part\",max([len(part) for part in parts]))\n",
    "    json.dump(parts, open(f\"../static/books/{name}.json\", \"w\"),indent=4)\n",
    "\n",
    "\n",
    "\n",
    "cleanup(\"harry_potter_philosophers_stone_1\")"
   ]
  },
  {
   "cell_type": "code",
   "execution_count": null,
   "metadata": {},
   "outputs": [],
   "source": [
    "'''\n",
    "\n",
    "\n",
    "'''"
   ]
  },
  {
   "cell_type": "code",
   "execution_count": 23,
   "metadata": {},
   "outputs": [
    {
     "data": {
      "text/plain": [
       "'ley mumbled. Owls… shooting stars'"
      ]
     },
     "execution_count": 23,
     "metadata": {},
     "output_type": "execute_result"
    }
   ],
   "source": [
    "\"ley mumbled. Owls. . . shooting stars\".replace(\". . .\",\"…\")"
   ]
  }
 ],
 "metadata": {
  "kernelspec": {
   "display_name": "Python 3",
   "language": "python",
   "name": "python3"
  },
  "language_info": {
   "codemirror_mode": {
    "name": "ipython",
    "version": 3
   },
   "file_extension": ".py",
   "mimetype": "text/x-python",
   "name": "python",
   "nbconvert_exporter": "python",
   "pygments_lexer": "ipython3",
   "version": "3.11.2"
  },
  "orig_nbformat": 4
 },
 "nbformat": 4,
 "nbformat_minor": 2
}
